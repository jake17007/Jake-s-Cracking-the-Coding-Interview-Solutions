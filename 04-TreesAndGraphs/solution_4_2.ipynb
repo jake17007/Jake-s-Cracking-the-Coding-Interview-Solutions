{
 "cells": [
  {
   "cell_type": "code",
   "execution_count": 60,
   "metadata": {},
   "outputs": [],
   "source": [
    "class Node:\n",
    "    def __init__(self, val):\n",
    "        self.val = val\n",
    "        self.left = None\n",
    "        self.right = None\n",
    "        \n",
    "def const_bst(elems):\n",
    "    if not elems:\n",
    "        return None\n",
    "    if len(elems) == 1:\n",
    "        return Node(elems[0])\n",
    "    mid = len(elems) // 2\n",
    "    root = Node(elems[mid])\n",
    "    root.left = const_bst(elems[:mid])\n",
    "    root.right = const_bst(elems[mid+1:])\n",
    "    return root"
   ]
  },
  {
   "cell_type": "code",
   "execution_count": 56,
   "metadata": {},
   "outputs": [],
   "source": [
    "def check_equal(a, b):\n",
    "    if a is None and b is None:\n",
    "        return True\n",
    "    if a is None or b is None:\n",
    "        return False\n",
    "    if a.val != b.val:\n",
    "        return False\n",
    "    return check_equal(a.left, b.left) and check_equal(a.right, b.right)"
   ]
  },
  {
   "cell_type": "code",
   "execution_count": 57,
   "metadata": {},
   "outputs": [],
   "source": [
    "x = [1]\n",
    "y = Node(1)\n",
    "assert check_equal(const_bst(x), y)"
   ]
  },
  {
   "cell_type": "code",
   "execution_count": 61,
   "metadata": {},
   "outputs": [],
   "source": [
    "x = [1, 2]\n",
    "y = Node(2)\n",
    "y.left = Node(1)\n",
    "assert check_equal(const_bst(x), y)"
   ]
  },
  {
   "cell_type": "code",
   "execution_count": 62,
   "metadata": {},
   "outputs": [],
   "source": [
    "x = [1, 2, 3]\n",
    "y = Node(2)\n",
    "y.left = Node(1)\n",
    "y.right = Node(3)\n",
    "assert check_equal(const_bst(x), y)"
   ]
  },
  {
   "cell_type": "code",
   "execution_count": 63,
   "metadata": {},
   "outputs": [],
   "source": [
    "x = [1, 2, 3, 4]\n",
    "y = Node(3)\n",
    "y.left = Node(2)\n",
    "y.left.left = Node(1)\n",
    "y.right = Node(4)\n",
    "assert check_equal(const_bst(x), y)"
   ]
  }
 ],
 "metadata": {
  "kernelspec": {
   "display_name": "Python 3",
   "language": "python",
   "name": "python3"
  },
  "language_info": {
   "codemirror_mode": {
    "name": "ipython",
    "version": 3
   },
   "file_extension": ".py",
   "mimetype": "text/x-python",
   "name": "python",
   "nbconvert_exporter": "python",
   "pygments_lexer": "ipython3",
   "version": "3.6.4"
  }
 },
 "nbformat": 4,
 "nbformat_minor": 2
}
